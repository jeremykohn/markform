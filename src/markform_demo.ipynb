{
 "cells": [
  {
   "cell_type": "code",
   "execution_count": 86,
   "metadata": {
    "collapsed": false
   },
   "outputs": [],
   "source": [
    "from IPython.core.display import display, HTML\n",
    "\n",
    "import os\n",
    "import sys\n",
    "\n",
    "# Allow importing modules from local directory.\n",
    "current_dir = os.path.abspath('.')\n",
    "if current_dir not in sys.path:\n",
    "    sys.path.append(current_dir)\n",
    "\n",
    "import markform"
   ]
  },
  {
   "cell_type": "code",
   "execution_count": 87,
   "metadata": {
    "collapsed": false
   },
   "outputs": [
    {
     "name": "stdout",
     "output_type": "stream",
     "text": [
      "\n",
      "[+]\n",
      "\n",
      "First name  [_]\n",
      "Last name  [_]\n",
      "Email address  [@]\n",
      "Choose a password  [*]\n",
      "\n",
      "[(Create my account)]\n",
      "\n",
      "[-]\n",
      "\n"
     ]
    },
    {
     "data": {
      "text/html": [
       "\n",
       "<form>\n",
       "\n",
       "<div>\n",
       "<label for=\"markform-text-input-first-name\">First name</label>\n",
       "<input id=\"markform-text-input-first-name\" type=\"text\">\n",
       "</div>\n",
       "<div>\n",
       "<label for=\"markform-text-input-last-name\">Last name</label>\n",
       "<input id=\"markform-text-input-last-name\" type=\"text\">\n",
       "</div>\n",
       "<div>\n",
       "<label for=\"markform-email-input-email-address\">Email address</label>\n",
       "<input id=\"markform-email-input-email-address\" type=\"email\">\n",
       "</div>\n",
       "<div>\n",
       "<label for=\"markform-password-input-choose-a-password\">Choose a password</label>\n",
       "<input id=\"markform-password-input-choose-a-password\" type=\"password\">\n",
       "</div>\n",
       "\n",
       "<div>\n",
       "<button id=\"markform-submit-button-create-my-account\" type=\"submit\">Create my account</button>\n",
       "</div>\n",
       "\n",
       "</form>\n"
      ],
      "text/plain": [
       "<IPython.core.display.HTML object>"
      ]
     },
     "metadata": {},
     "output_type": "display_data"
    },
    {
     "name": "stdout",
     "output_type": "stream",
     "text": [
      "\n",
      "<form>\n",
      "\n",
      "<div>\n",
      "<label for=\"markform-text-input-first-name\">First name</label>\n",
      "<input id=\"markform-text-input-first-name\" type=\"text\">\n",
      "</div>\n",
      "<div>\n",
      "<label for=\"markform-text-input-last-name\">Last name</label>\n",
      "<input id=\"markform-text-input-last-name\" type=\"text\">\n",
      "</div>\n",
      "<div>\n",
      "<label for=\"markform-email-input-email-address\">Email address</label>\n",
      "<input id=\"markform-email-input-email-address\" type=\"email\">\n",
      "</div>\n",
      "<div>\n",
      "<label for=\"markform-password-input-choose-a-password\">Choose a password</label>\n",
      "<input id=\"markform-password-input-choose-a-password\" type=\"password\">\n",
      "</div>\n",
      "\n",
      "<div>\n",
      "<button id=\"markform-submit-button-create-my-account\" type=\"submit\">Create my account</button>\n",
      "</div>\n",
      "\n",
      "</form>\n",
      "\n"
     ]
    }
   ],
   "source": [
    "markform_input_1 = \"\"\"\n",
    "[+]\n",
    "\n",
    "First name  [_]\n",
    "Last name  [_]\n",
    "Email address  [@]\n",
    "Choose a password  [*]\n",
    "\n",
    "[(Create my account)]\n",
    "\n",
    "[-]\n",
    "\"\"\"\n",
    "\n",
    "html_output_1 = markform.convert_text(markform_input_1)\n",
    "\n",
    "print(markform_input_1)\n",
    "display(HTML(html_output_1))\n",
    "print(html_output_1)"
   ]
  },
  {
   "cell_type": "code",
   "execution_count": 88,
   "metadata": {
    "collapsed": false
   },
   "outputs": [
    {
     "name": "stdout",
     "output_type": "stream",
     "text": [
      "\n",
      "[+]\n",
      "\n",
      "Image file to rescale  [^]\n",
      "Horizontal resolution  [$]\n",
      "Vertical resolution  [$]\n",
      "\n",
      "[(Upload image)]\n",
      "\n",
      "[-]\n",
      "\n"
     ]
    },
    {
     "data": {
      "text/html": [
       "\n",
       "<form>\n",
       "\n",
       "<div>\n",
       "<label for=\"markform-file-input-image-file-to-rescale\">Image file to rescale</label>\n",
       "<input id=\"markform-file-input-image-file-to-rescale\" type=\"file\">\n",
       "</div>\n",
       "<div>\n",
       "<label for=\"markform-number-input-horizontal-resolution\">Horizontal resolution</label>\n",
       "<input id=\"markform-number-input-horizontal-resolution\" type=\"number\">\n",
       "</div>\n",
       "<div>\n",
       "<label for=\"markform-number-input-vertical-resolution\">Vertical resolution</label>\n",
       "<input id=\"markform-number-input-vertical-resolution\" type=\"number\">\n",
       "</div>\n",
       "\n",
       "<div>\n",
       "<button id=\"markform-submit-button-upload-image\" type=\"submit\">Upload image</button>\n",
       "</div>\n",
       "\n",
       "</form>\n"
      ],
      "text/plain": [
       "<IPython.core.display.HTML object>"
      ]
     },
     "metadata": {},
     "output_type": "display_data"
    },
    {
     "name": "stdout",
     "output_type": "stream",
     "text": [
      "\n",
      "<form>\n",
      "\n",
      "<div>\n",
      "<label for=\"markform-file-input-image-file-to-rescale\">Image file to rescale</label>\n",
      "<input id=\"markform-file-input-image-file-to-rescale\" type=\"file\">\n",
      "</div>\n",
      "<div>\n",
      "<label for=\"markform-number-input-horizontal-resolution\">Horizontal resolution</label>\n",
      "<input id=\"markform-number-input-horizontal-resolution\" type=\"number\">\n",
      "</div>\n",
      "<div>\n",
      "<label for=\"markform-number-input-vertical-resolution\">Vertical resolution</label>\n",
      "<input id=\"markform-number-input-vertical-resolution\" type=\"number\">\n",
      "</div>\n",
      "\n",
      "<div>\n",
      "<button id=\"markform-submit-button-upload-image\" type=\"submit\">Upload image</button>\n",
      "</div>\n",
      "\n",
      "</form>\n",
      "\n"
     ]
    }
   ],
   "source": [
    "markform_input_2 = \"\"\"\n",
    "[+]\n",
    "\n",
    "Image file to rescale  [^]\n",
    "Horizontal resolution  [$]\n",
    "Vertical resolution  [$]\n",
    "\n",
    "[(Upload image)]\n",
    "\n",
    "[-]\n",
    "\"\"\"\n",
    "\n",
    "html_output_2 = markform.convert_text(markform_input_2)\n",
    "\n",
    "print(markform_input_2)\n",
    "display(HTML(html_output_2))\n",
    "print(html_output_2)"
   ]
  },
  {
   "cell_type": "code",
   "execution_count": 83,
   "metadata": {
    "collapsed": false
   },
   "outputs": [
    {
     "name": "stdout",
     "output_type": "stream",
     "text": [
      "Help on package markform:\n",
      "\n",
      "NAME\n",
      "    markform\n",
      "\n",
      "FILE\n",
      "    /Users/jeremykohn/Documents/portfolio/markform/Github Markform repo/markform/src/markform/__init__.py\n",
      "\n",
      "PACKAGE CONTENTS\n",
      "    converters (package)\n",
      "\n",
      "FUNCTIONS\n",
      "    convert_file(input_filepath, custom_output_filename=None, overwrite_file=False)\n",
      "    \n",
      "    convert_text(markform_text)\n",
      "\n",
      "DATA\n",
      "    __all__ = ['convert_text', 'convert_file']\n",
      "\n",
      "\n"
     ]
    }
   ],
   "source": [
    "help('markform')"
   ]
  },
  {
   "cell_type": "code",
   "execution_count": null,
   "metadata": {
    "collapsed": true
   },
   "outputs": [],
   "source": []
  }
 ],
 "metadata": {
  "kernelspec": {
   "display_name": "Python [default]",
   "language": "python",
   "name": "python2"
  },
  "language_info": {
   "codemirror_mode": {
    "name": "ipython",
    "version": 2
   },
   "file_extension": ".py",
   "mimetype": "text/x-python",
   "name": "python",
   "nbconvert_exporter": "python",
   "pygments_lexer": "ipython2",
   "version": "2.7.12"
  }
 },
 "nbformat": 4,
 "nbformat_minor": 0
}
